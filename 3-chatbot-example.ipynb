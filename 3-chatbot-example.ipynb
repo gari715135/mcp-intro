{
 "cells": [
  {
   "cell_type": "code",
   "execution_count": 1,
   "id": "c159f83a",
   "metadata": {
    "execution": {
     "iopub.execute_input": "2025-05-27T23:06:50.656584Z",
     "iopub.status.busy": "2025-05-27T23:06:50.656386Z",
     "iopub.status.idle": "2025-05-27T23:06:50.848713Z",
     "shell.execute_reply": "2025-05-27T23:06:50.848441Z",
     "shell.execute_reply.started": "2025-05-27T23:06:50.656568Z"
    }
   },
   "outputs": [],
   "source": [
    "import arxiv\n",
    "import json\n",
    "import os\n",
    "from typing import List\n",
    "from dotenv import load_dotenv\n",
    "import anthropic\n",
    "\n",
    "load_dotenv() \n",
    "client = anthropic.Anthropic()"
   ]
  },
  {
   "cell_type": "code",
   "execution_count": 2,
   "id": "1c1f825c-acc4-4d08-94a7-c58e1025ac79",
   "metadata": {
    "execution": {
     "iopub.execute_input": "2025-05-27T23:06:59.052326Z",
     "iopub.status.busy": "2025-05-27T23:06:59.052004Z",
     "iopub.status.idle": "2025-05-27T23:06:59.054845Z",
     "shell.execute_reply": "2025-05-27T23:06:59.054395Z",
     "shell.execute_reply.started": "2025-05-27T23:06:59.052305Z"
    }
   },
   "outputs": [],
   "source": [
    "PAPER_DIR = \"papers\""
   ]
  },
  {
   "cell_type": "code",
   "execution_count": 3,
   "id": "ffbecb93-a394-4a14-a44f-217068fa2b61",
   "metadata": {
    "execution": {
     "iopub.execute_input": "2025-05-27T23:07:19.096335Z",
     "iopub.status.busy": "2025-05-27T23:07:19.096016Z",
     "iopub.status.idle": "2025-05-27T23:07:19.103611Z",
     "shell.execute_reply": "2025-05-27T23:07:19.102499Z",
     "shell.execute_reply.started": "2025-05-27T23:07:19.096314Z"
    }
   },
   "outputs": [],
   "source": [
    "def search_papers(topic: str, max_results: int = 5) -> List[str]:\n",
    "    \"\"\"\n",
    "    Search for papers on arXiv based on a topic and store their information.\n",
    "    \n",
    "    Args:\n",
    "        topic: The topic to search for\n",
    "        max_results: Maximum number of results to retrieve (default: 5)\n",
    "        \n",
    "    Returns:\n",
    "        List of paper IDs found in the search\n",
    "    \"\"\"\n",
    "    \n",
    "    # Use arxiv to find the papers \n",
    "    client = arxiv.Client()\n",
    "\n",
    "    # Search for the most relevant articles matching the queried topic\n",
    "    search = arxiv.Search(\n",
    "        query = topic,\n",
    "        max_results = max_results,\n",
    "        sort_by = arxiv.SortCriterion.Relevance\n",
    "    )\n",
    "\n",
    "    papers = client.results(search)\n",
    "    \n",
    "    # Create directory for this topic\n",
    "    path = os.path.join(PAPER_DIR, topic.lower().replace(\" \", \"_\"))\n",
    "    os.makedirs(path, exist_ok=True)\n",
    "    \n",
    "    file_path = os.path.join(path, \"papers_info.json\")\n",
    "\n",
    "    # Try to load existing papers info\n",
    "    try:\n",
    "        with open(file_path, \"r\") as json_file:\n",
    "            papers_info = json.load(json_file)\n",
    "    except (FileNotFoundError, json.JSONDecodeError):\n",
    "        papers_info = {}\n",
    "\n",
    "    # Process each paper and add to papers_info  \n",
    "    paper_ids = []\n",
    "    for paper in papers:\n",
    "        paper_ids.append(paper.get_short_id())\n",
    "        paper_info = {\n",
    "            'title': paper.title,\n",
    "            'authors': [author.name for author in paper.authors],\n",
    "            'summary': paper.summary,\n",
    "            'pdf_url': paper.pdf_url,\n",
    "            'published': str(paper.published.date())\n",
    "        }\n",
    "        papers_info[paper.get_short_id()] = paper_info\n",
    "    \n",
    "    # Save updated papers_info to json file\n",
    "    with open(file_path, \"w\") as json_file:\n",
    "        json.dump(papers_info, json_file, indent=2)\n",
    "    \n",
    "    print(f\"Results are saved in: {file_path}\")\n",
    "    \n",
    "    return paper_ids"
   ]
  },
  {
   "cell_type": "code",
   "execution_count": 4,
   "id": "2ead14b7-1f04-42b6-bbe0-20735178b3c5",
   "metadata": {
    "execution": {
     "iopub.execute_input": "2025-05-27T23:08:16.004048Z",
     "iopub.status.busy": "2025-05-27T23:08:16.003708Z",
     "iopub.status.idle": "2025-05-27T23:08:16.556089Z",
     "shell.execute_reply": "2025-05-27T23:08:16.555805Z",
     "shell.execute_reply.started": "2025-05-27T23:08:16.004028Z"
    }
   },
   "outputs": [
    {
     "name": "stdout",
     "output_type": "stream",
     "text": [
      "Results are saved in: papers/computers/papers_info.json\n",
      "Results are saved in: papers/chemistry/papers_info.json\n",
      "Results are saved in: papers/physics/papers_info.json\n"
     ]
    },
    {
     "data": {
      "text/plain": [
       "['1209.0592v1',\n",
       " 'math-ph/0002018v2',\n",
       " 'math-ph/0503039v1',\n",
       " 'physics/0308107v1',\n",
       " '1405.5530v1']"
      ]
     },
     "execution_count": 4,
     "metadata": {},
     "output_type": "execute_result"
    }
   ],
   "source": [
    "paper_ids = search_papers(\"computers\")\n",
    "paper_ids = search_papers(\"chemistry\")\n",
    "paper_ids = search_papers(\"physics\")\n",
    "paper_ids"
   ]
  },
  {
   "cell_type": "code",
   "execution_count": 5,
   "id": "769ead19-72cd-45cb-9a0e-bed805771097",
   "metadata": {
    "execution": {
     "iopub.execute_input": "2025-05-27T23:07:57.120639Z",
     "iopub.status.busy": "2025-05-27T23:07:57.120282Z",
     "iopub.status.idle": "2025-05-27T23:07:57.126423Z",
     "shell.execute_reply": "2025-05-27T23:07:57.125814Z",
     "shell.execute_reply.started": "2025-05-27T23:07:57.120614Z"
    }
   },
   "outputs": [],
   "source": [
    "def extract_info(paper_id: str) -> str:\n",
    "    \"\"\"\n",
    "    Search for information about a specific paper across all topic directories.\n",
    "    \n",
    "    Args:\n",
    "        paper_id: The ID of the paper to look for\n",
    "        \n",
    "    Returns:\n",
    "        JSON string with paper information if found, error message if not found\n",
    "    \"\"\"\n",
    " \n",
    "    for item in os.listdir(PAPER_DIR):\n",
    "        item_path = os.path.join(PAPER_DIR, item)\n",
    "        if os.path.isdir(item_path):\n",
    "            file_path = os.path.join(item_path, \"papers_info.json\")\n",
    "            if os.path.isfile(file_path):\n",
    "                try:\n",
    "                    with open(file_path, \"r\") as json_file:\n",
    "                        papers_info = json.load(json_file)\n",
    "                        if paper_id in papers_info:\n",
    "                            return json.dumps(papers_info[paper_id], indent=2)\n",
    "                except (FileNotFoundError, json.JSONDecodeError) as e:\n",
    "                    print(f\"Error reading {file_path}: {str(e)}\")\n",
    "                    continue\n",
    "    \n",
    "    return f\"There's no saved information related to paper {paper_id}.\""
   ]
  },
  {
   "cell_type": "code",
   "execution_count": 6,
   "id": "7d82f0c3-81b1-476f-a2a9-daa6f12da84e",
   "metadata": {
    "execution": {
     "iopub.execute_input": "2025-05-27T23:08:23.829969Z",
     "iopub.status.busy": "2025-05-27T23:08:23.829646Z",
     "iopub.status.idle": "2025-05-27T23:08:23.834438Z",
     "shell.execute_reply": "2025-05-27T23:08:23.834006Z",
     "shell.execute_reply.started": "2025-05-27T23:08:23.829949Z"
    }
   },
   "outputs": [
    {
     "name": "stdout",
     "output_type": "stream",
     "text": [
      "{\n",
      "  \"title\": \"Is Physics Sick? [In Praise of Classical Physics]\",\n",
      "  \"authors\": [\n",
      "    \"Hisham Ghassib\"\n",
      "  ],\n",
      "  \"summary\": \"In this paper, it is argued that theoretical physics is more akin to an\\norganism than to a rigid structure.It is in this sense that the epithet,\\n\\\"sick\\\", applies to it. It is argued that classical physics is a model of a\\nhealthy science, and the degree of sickness of modern physics is measured\\naccordingly. The malady is located in the relationship between mathematics and\\nphysical meaning in physical theory.\",\n",
      "  \"pdf_url\": \"http://arxiv.org/pdf/1209.0592v1\",\n",
      "  \"published\": \"2012-09-04\"\n",
      "}\n"
     ]
    }
   ],
   "source": [
    "print(extract_info(paper_ids[0]))"
   ]
  },
  {
   "cell_type": "code",
   "execution_count": 7,
   "id": "2f1dacf4-962f-4c36-8a3d-51cfde6eb9e2",
   "metadata": {
    "execution": {
     "iopub.execute_input": "2025-05-27T23:08:41.605656Z",
     "iopub.status.busy": "2025-05-27T23:08:41.605354Z",
     "iopub.status.idle": "2025-05-27T23:08:41.610166Z",
     "shell.execute_reply": "2025-05-27T23:08:41.609641Z",
     "shell.execute_reply.started": "2025-05-27T23:08:41.605634Z"
    }
   },
   "outputs": [],
   "source": [
    "tools = [\n",
    "    {\n",
    "        \"name\": \"search_papers\",\n",
    "        \"description\": \"Search for papers on arXiv based on a topic and store their information.\",\n",
    "        \"input_schema\": {\n",
    "            \"type\": \"object\",\n",
    "            \"properties\": {\n",
    "                \"topic\": {\n",
    "                    \"type\": \"string\",\n",
    "                    \"description\": \"The topic to search for\"\n",
    "                }, \n",
    "                \"max_results\": {\n",
    "                    \"type\": \"integer\",\n",
    "                    \"description\": \"Maximum number of results to retrieve\",\n",
    "                    \"default\": 5\n",
    "                }\n",
    "            },\n",
    "            \"required\": [\"topic\"]\n",
    "        }\n",
    "    },\n",
    "    {\n",
    "        \"name\": \"extract_info\",\n",
    "        \"description\": \"Search for information about a specific paper across all topic directories.\",\n",
    "        \"input_schema\": {\n",
    "            \"type\": \"object\",\n",
    "            \"properties\": {\n",
    "                \"paper_id\": {\n",
    "                    \"type\": \"string\",\n",
    "                    \"description\": \"The ID of the paper to look for\"\n",
    "                }\n",
    "            },\n",
    "            \"required\": [\"paper_id\"]\n",
    "        }\n",
    "    }\n",
    "]"
   ]
  },
  {
   "cell_type": "code",
   "execution_count": 8,
   "id": "54d66927-1dc1-440c-a2d4-a83a7391a1d0",
   "metadata": {
    "execution": {
     "iopub.execute_input": "2025-05-27T23:08:50.562289Z",
     "iopub.status.busy": "2025-05-27T23:08:50.561962Z",
     "iopub.status.idle": "2025-05-27T23:08:50.567013Z",
     "shell.execute_reply": "2025-05-27T23:08:50.566390Z",
     "shell.execute_reply.started": "2025-05-27T23:08:50.562266Z"
    }
   },
   "outputs": [],
   "source": [
    "mapping_tool_function = {\n",
    "    \"search_papers\": search_papers,\n",
    "    \"extract_info\": extract_info\n",
    "}\n",
    "\n",
    "def execute_tool(tool_name, tool_args):\n",
    "    \n",
    "    result = mapping_tool_function[tool_name](**tool_args)\n",
    "\n",
    "    if result is None:\n",
    "        result = \"The operation completed but didn't return any results.\"\n",
    "        \n",
    "    elif isinstance(result, list):\n",
    "        result = ', '.join(result)\n",
    "        \n",
    "    elif isinstance(result, dict):\n",
    "        # Convert dictionaries to formatted JSON strings\n",
    "        result = json.dumps(result, indent=2)\n",
    "    \n",
    "    else:\n",
    "        # For any other type, convert using str()\n",
    "        result = str(result)\n",
    "    return result"
   ]
  },
  {
   "cell_type": "code",
   "execution_count": 9,
   "id": "2dc1abf1-c527-4c81-b661-b2800fffe283",
   "metadata": {
    "execution": {
     "iopub.execute_input": "2025-05-27T23:12:54.716471Z",
     "iopub.status.busy": "2025-05-27T23:12:54.716043Z",
     "iopub.status.idle": "2025-05-27T23:12:54.722605Z",
     "shell.execute_reply": "2025-05-27T23:12:54.721788Z",
     "shell.execute_reply.started": "2025-05-27T23:12:54.716447Z"
    }
   },
   "outputs": [],
   "source": [
    "def process_query(query):\n",
    "    \n",
    "    messages = [{'role': 'user', 'content': query}]\n",
    "    \n",
    "    response = client.messages.create(max_tokens = 2024,\n",
    "                                  model = 'claude-3-7-sonnet-20250219', \n",
    "                                  tools = tools,\n",
    "                                  messages = messages)\n",
    "    \n",
    "    process_query = True\n",
    "    while process_query:\n",
    "        assistant_content = []\n",
    "\n",
    "        for content in response.content:\n",
    "            if content.type == 'text':\n",
    "                \n",
    "                print(content.text)\n",
    "                assistant_content.append(content)\n",
    "                \n",
    "                if len(response.content) == 1:\n",
    "                    process_query = False\n",
    "            \n",
    "            elif content.type == 'tool_use':\n",
    "                \n",
    "                assistant_content.append(content)\n",
    "                messages.append({'role': 'assistant', 'content': assistant_content})\n",
    "                \n",
    "                tool_id = content.id\n",
    "                tool_args = content.input\n",
    "                tool_name = content.name\n",
    "                print(f\"Calling tool {tool_name} with args {tool_args}\")\n",
    "                \n",
    "                result = execute_tool(tool_name, tool_args)\n",
    "                messages.append({\"role\": \"user\", \n",
    "                                  \"content\": [\n",
    "                                      {\n",
    "                                          \"type\": \"tool_result\",\n",
    "                                          \"tool_use_id\": tool_id,\n",
    "                                          \"content\": result\n",
    "                                      }\n",
    "                                  ]\n",
    "                                })\n",
    "                response = client.messages.create(max_tokens = 2024,\n",
    "                                  model = 'claude-3-7-sonnet-20250219', \n",
    "                                  tools = tools,\n",
    "                                  messages = messages) \n",
    "                \n",
    "                if len(response.content) == 1 and response.content[0].type == \"text\":\n",
    "                    print(response.content[0].text)\n",
    "                    process_query = False"
   ]
  },
  {
   "cell_type": "code",
   "execution_count": 10,
   "id": "1bae3424-307b-407d-b02d-f9b365262cc8",
   "metadata": {
    "execution": {
     "iopub.execute_input": "2025-05-27T23:12:57.355757Z",
     "iopub.status.busy": "2025-05-27T23:12:57.355301Z",
     "iopub.status.idle": "2025-05-27T23:12:57.359734Z",
     "shell.execute_reply": "2025-05-27T23:12:57.359237Z",
     "shell.execute_reply.started": "2025-05-27T23:12:57.355726Z"
    }
   },
   "outputs": [],
   "source": [
    "def chat_loop():\n",
    "    print(\"Type your queries or 'quit' to exit.\")\n",
    "    while True:\n",
    "        try:\n",
    "            query = input(\"\\nQuery: \").strip()\n",
    "            if query.lower() == 'quit':\n",
    "                break\n",
    "    \n",
    "            process_query(query)\n",
    "            print(\"\\n\")\n",
    "        except Exception as e:\n",
    "            print(f\"\\nError: {str(e)}\")"
   ]
  },
  {
   "cell_type": "code",
   "execution_count": 11,
   "id": "04e2bf81-f84f-406b-b2ea-eb5f12657094",
   "metadata": {
    "execution": {
     "iopub.execute_input": "2025-05-27T23:13:02.665334Z",
     "iopub.status.busy": "2025-05-27T23:13:02.665038Z"
    }
   },
   "outputs": [
    {
     "name": "stdout",
     "output_type": "stream",
     "text": [
      "Type your queries or 'quit' to exit.\n",
      "\n",
      "Error: Error code: 400 - {'type': 'error', 'error': {'type': 'invalid_request_error', 'message': 'Your credit balance is too low to access the Anthropic API. Please go to Plans & Billing to upgrade or purchase credits.'}}\n"
     ]
    }
   ],
   "source": [
    "chat_loop()"
   ]
  },
  {
   "cell_type": "code",
   "execution_count": null,
   "id": "b295dbde-d3f5-423a-a377-4141974aa945",
   "metadata": {},
   "outputs": [],
   "source": []
  }
 ],
 "metadata": {
  "kernelspec": {
   "display_name": "mcp",
   "language": "python",
   "name": "python3"
  },
  "language_info": {
   "codemirror_mode": {
    "name": "ipython",
    "version": 3
   },
   "file_extension": ".py",
   "mimetype": "text/x-python",
   "name": "python",
   "nbconvert_exporter": "python",
   "pygments_lexer": "ipython3",
   "version": "3.12.9"
  }
 },
 "nbformat": 4,
 "nbformat_minor": 5
}
